{
 "cells": [
  {
   "cell_type": "markdown",
   "metadata": {
    "ExecuteTime": {
     "end_time": "2020-02-12T17:56:22.948195Z",
     "start_time": "2020-02-12T17:56:22.944176Z"
    }
   },
   "source": [
    "### Lab 2: Hyponyms and Hypernyms"
   ]
  },
  {
   "cell_type": "code",
   "execution_count": 1,
   "metadata": {
    "ExecuteTime": {
     "end_time": "2020-02-12T14:12:16.470920Z",
     "start_time": "2020-02-12T14:12:15.640262Z"
    }
   },
   "outputs": [
    {
     "name": "stdout",
     "output_type": "stream",
     "text": [
      "4\n"
     ]
    }
   ],
   "source": [
    "import pandas as pd\n",
    "import wikipedia\n",
    "import os\n",
    "from tqdm import tqdm\n",
    "from joblib import Parallel, delayed\n",
    "import multiprocessing\n",
    "import networkx as nx\n",
    "import matplotlib.pyplot as plt\n",
    "from collections import defaultdict\n",
    "from ipywidgets import interact, interactive, fixed, interact_manual,widgets\n",
    "from IPython.display import display\n",
    "import json\n",
    "num_cores = multiprocessing.cpu_count()\n",
    "print(num_cores)\n",
    "wikipedia.set_lang(\"ru\")\n",
    "# DATA_PATH_LIST = ['D:','src2','taxonomy-enrichment','data','training_data']\n",
    "DATA_PATH_LIST = ['.']\n",
    "EMBEDDING_MODEL_FILENAME = \"wiki_node2vec.bin\"\n",
    "DATA_PATH=\"/\".join(DATA_PATH_LIST+[\"training_nouns.tsv\"])\n",
    "df = pd.read_csv(DATA_PATH,sep='\\t')\n",
    "%matplotlib inline"
   ]
  },
  {
   "cell_type": "code",
   "execution_count": 2,
   "metadata": {
    "ExecuteTime": {
     "end_time": "2020-02-12T14:12:16.475780Z",
     "start_time": "2020-02-12T14:12:16.473114Z"
    }
   },
   "outputs": [],
   "source": [
    "def prestr(x):\n",
    "    return str(x).replace('\\\"','').replace(\"'\",'\"')"
   ]
  },
  {
   "cell_type": "code",
   "execution_count": 3,
   "metadata": {
    "ExecuteTime": {
     "end_time": "2020-02-12T14:12:16.685506Z",
     "start_time": "2020-02-12T14:12:16.477634Z"
    }
   },
   "outputs": [],
   "source": [
    "class DefDict(defaultdict):\n",
    "    def __missing__(self, key):\n",
    "        self[key] = key\n",
    "        return key\n",
    "    \n",
    "idx2syns = DefDict(lambda x:x)\n",
    "for val in df.values:\n",
    "    idx2syns[val[0]]=val[1]\n",
    "    try:\n",
    "        pidxs = json.loads(prestr(val[2]))\n",
    "        concp = [el.split(\",\")[0] for el in json.loads(prestr(val[3]))]\n",
    "        idx2syns.update(dict(zip(pidxs,concp)))\n",
    "    except:\n",
    "        print(prestr(val[2]))\n",
    "        print(prestr(val[3]))"
   ]
  },
  {
   "cell_type": "markdown",
   "metadata": {
    "ExecuteTime": {
     "end_time": "2020-02-12T17:12:34.060220Z",
     "start_time": "2020-02-12T17:12:34.055235Z"
    }
   },
   "source": [
    "### Interactive visualization of hyponyms and hypernyms"
   ]
  },
  {
   "cell_type": "code",
   "execution_count": 4,
   "metadata": {
    "ExecuteTime": {
     "end_time": "2020-02-12T17:11:37.966489Z",
     "start_time": "2020-02-12T17:11:37.931688Z"
    }
   },
   "outputs": [
    {
     "data": {
      "application/vnd.jupyter.widget-view+json": {
       "model_id": "2f0acc9a156e489ea8dff71b3e3cacde",
       "version_major": 2,
       "version_minor": 0
      },
      "text/plain": [
       "Button(description='Draw', style=ButtonStyle())"
      ]
     },
     "metadata": {},
     "output_type": "display_data"
    },
    {
     "data": {
      "application/vnd.jupyter.widget-view+json": {
       "model_id": "57f1fecfee6d48b5bac96d2fbf9efdc5",
       "version_major": 2,
       "version_minor": 0
      },
      "text/plain": [
       "Text(value='МАТЬ', description='String:', placeholder='Query')"
      ]
     },
     "metadata": {},
     "output_type": "display_data"
    }
   ],
   "source": [
    "button = widgets.Button(description=\"Draw\")\n",
    "query = widgets.Text(\n",
    "    value='МАТЬ',\n",
    "    placeholder='Query',\n",
    "    description='String:',\n",
    "    disabled=False\n",
    ")\n",
    "display(button,query)\n",
    "\n",
    "\n",
    "\n",
    "\n",
    "def creategraph(df):\n",
    "    res = []\n",
    "    for row in df.values:\n",
    "        cohyps = row[1].split(\",\")\n",
    "        for idx,cohyp in enumerate(cohyps):\n",
    "            for parent in json.loads(prestr(row[2])):\n",
    "                res.append((row[0]+'-'+str(idx),parent))\n",
    "    return res\n",
    "\n",
    "def graphdraw(b):\n",
    "    print(\"graphdraw\",query.value)\n",
    "    subset = df[df['TEXT'].str.contains(query.value.upper())]\n",
    "    g = nx.DiGraph()\n",
    "    for el in subset.values:\n",
    "        cohyps = el[1].split(\",\")\n",
    "        print(cohyps)\n",
    "        syns = idx2syns[el[0]]\n",
    "        for child in cohyps:\n",
    "            for parent in json.loads(prestr(el[2])):\n",
    "                ed = g.add_edge(child,idx2syns[parent],label=\"is a\")\n",
    "            \n",
    "    plt.figure(figsize=(15,15))\n",
    "    pos = nx.nx_agraph.graphviz_layout(g)\n",
    "    nx.draw(g,with_labels=True,pos=pos)\n",
    "#     edge_labels=nx.draw_networkx_edge_labels(g,pos=pos)\n",
    "    plt.show()\n",
    "button.on_click(graphdraw)"
   ]
  },
  {
   "cell_type": "markdown",
   "metadata": {
    "ExecuteTime": {
     "end_time": "2020-02-12T11:38:20.619158Z",
     "start_time": "2020-02-12T11:38:20.614734Z"
    }
   },
   "source": [
    "### Pattern extractor\n",
    "\n",
    "Yargy — библиотека для извлечения структурированной информации из текстов на русском языке. Правила описываются контекстно-свободными грамматиками и словарями ключевых слов. Банк готовых правил для имён, дат, адресов и других сущностей доступен в репозитории Natasha.\n",
    "* https://yargy.readthedocs.io/ru/latest/\n",
    "* http://pymorphy2.readthedocs.io/en/latest/user/grammemes.html\n",
    "* https://github.com/natasha/natasha"
   ]
  },
  {
   "cell_type": "markdown",
   "metadata": {
    "ExecuteTime": {
     "start_time": "2020-02-12T13:09:50.486Z"
    }
   },
   "source": [
    "### Токенизатор"
   ]
  },
  {
   "cell_type": "code",
   "execution_count": 5,
   "metadata": {
    "ExecuteTime": {
     "end_time": "2020-02-12T14:12:16.819980Z",
     "start_time": "2020-02-12T14:12:16.708109Z"
    }
   },
   "outputs": [
    {
     "name": "stdout",
     "output_type": "stream",
     "text": [
      "['Ростов', '-', 'на', '-', 'Дону']\n",
      "['Длительностью', '18', 'ч', '.', '10', 'мин', '.']\n",
      "['Яндекс', '.', 'Такси']\n",
      "['π', '≈', '3', '.', '1415']\n",
      "['1', '500', '000', '$']\n",
      "['http', ':', '/', '/', 'vk', '.', 'com']\n"
     ]
    }
   ],
   "source": [
    "from yargy.tokenizer import MorphTokenizer\n",
    "\n",
    "\n",
    "tokenizer = MorphTokenizer()\n",
    "text = '''Ростов-на-Дону\n",
    "Длительностью 18ч. 10мин.\n",
    "Яндекс.Такси\n",
    "π ≈ 3.1415\n",
    "1 500 000$\n",
    "http://vk.com\n",
    "'''\n",
    "for line in text.splitlines():\n",
    "    print([_.value for _ in tokenizer(line)])"
   ]
  },
  {
   "cell_type": "markdown",
   "metadata": {
    "ExecuteTime": {
     "end_time": "2020-02-12T13:11:56.582467Z",
     "start_time": "2020-02-12T13:11:56.566175Z"
    }
   },
   "source": [
    "# Газеттир\n",
    "Газеттир нужен для удобной работы с последовательностью слов. Например, можно написать:"
   ]
  },
  {
   "cell_type": "code",
   "execution_count": 6,
   "metadata": {
    "ExecuteTime": {
     "end_time": "2020-02-12T14:12:16.844412Z",
     "start_time": "2020-02-12T14:12:16.821582Z"
    }
   },
   "outputs": [],
   "source": [
    "from yargy import or_, rule\n",
    "from yargy.predicates import normalized\n",
    "\n",
    "RULE = or_(\n",
    "    rule(normalized('dvd'), '-', normalized('диск')),\n",
    "    rule(normalized('видео'), normalized('файл'))\n",
    ")"
   ]
  },
  {
   "cell_type": "code",
   "execution_count": 7,
   "metadata": {
    "ExecuteTime": {
     "end_time": "2020-02-12T14:12:16.968622Z",
     "start_time": "2020-02-12T14:12:16.846737Z"
    }
   },
   "outputs": [
    {
     "name": "stdout",
     "output_type": "stream",
     "text": [
      "['Видео', 'файл']\n",
      "['dvd', '-', 'диске']\n"
     ]
    }
   ],
   "source": [
    "from yargy import Parser\n",
    "from yargy.pipelines import morph_pipeline\n",
    "\n",
    "\n",
    "RULE = morph_pipeline([\n",
    "    'dvd-диск',\n",
    "    'видео файл',\n",
    "    'видеофильм',\n",
    "    'газета',\n",
    "    'электронный дневник',\n",
    "    'эссе',\n",
    "])\n",
    "\n",
    "parser = Parser(RULE)\n",
    "text = 'Видео файл на dvd-диске'\n",
    "for match in parser.findall(text):\n",
    "    print([_.value for _ in match.tokens])"
   ]
  },
  {
   "cell_type": "code",
   "execution_count": 8,
   "metadata": {
    "ExecuteTime": {
     "end_time": "2020-02-12T14:12:54.576104Z",
     "start_time": "2020-02-12T14:12:54.511149Z"
    }
   },
   "outputs": [
    {
     "name": "stdout",
     "output_type": "stream",
     "text": [
      "['Чеченской', 'республике']\n",
      "['Донецкая', 'народная', 'республика']\n"
     ]
    }
   ],
   "source": [
    "from yargy import Parser, rule, and_\n",
    "from yargy.predicates import gram, is_capitalized, dictionary\n",
    "\n",
    "\n",
    "GEO = rule(\n",
    "    and_(\n",
    "        gram('ADJF'),  # так помечается прилагательное, остальные пометки описаны в\n",
    "                       # http://pymorphy2.readthedocs.io/en/latest/user/grammemes.html\n",
    "        is_capitalized()\n",
    "    ),\n",
    "    gram('ADJF').optional().repeatable(),\n",
    "    dictionary({\n",
    "        'федерация',\n",
    "        'республика'\n",
    "    })\n",
    ")\n",
    "\n",
    "\n",
    "parser = Parser(GEO)\n",
    "text = '''\n",
    "В Чеченской республике на день рождения ...\n",
    "Донецкая народная республика провозгласила ...\n",
    "Башня Федерация — одна из самых высоких ...\n",
    "'''\n",
    "for match in parser.findall(text):\n",
    "    print([_.value for _ in match.tokens])"
   ]
  },
  {
   "cell_type": "markdown",
   "metadata": {
    "ExecuteTime": {
     "end_time": "2020-02-12T13:13:57.167613Z",
     "start_time": "2020-02-12T13:13:57.159920Z"
    }
   },
   "source": [
    "### Предикаты\n",
    "\n",
    "Предикат — функция, которая принимает на вход токен и возвращает True или False. В Yargy встроено много готовых предикатов. Полный список есть в справочнике. Предикаты комбинируются с помощью and_, or_ и not_."
   ]
  },
  {
   "cell_type": "code",
   "execution_count": null,
   "metadata": {
    "ExecuteTime": {
     "end_time": "2020-02-12T14:12:17.173350Z",
     "start_time": "2020-02-12T14:12:17.136108Z"
    }
   },
   "outputs": [
    {
     "name": "stdout",
     "output_type": "stream",
     "text": [
      "True\n",
      "True\n"
     ]
    }
   ],
   "source": [
    "from yargy import and_, not_\n",
    "from yargy.tokenizer import MorphTokenizer\n",
    "from yargy.predicates import is_capitalized, eq\n",
    "\n",
    "\n",
    "tokenizer = MorphTokenizer()\n",
    "token = next(tokenizer('Стали'))\n",
    "\n",
    "predicate = is_capitalized()\n",
    "print(predicate(token))\n",
    "\n",
    "predicate = and_(\n",
    "    is_capitalized(),\n",
    "    not_(eq('марки'))\n",
    ")\n",
    "print(predicate(token))"
   ]
  },
  {
   "cell_type": "markdown",
   "metadata": {
    "ExecuteTime": {
     "end_time": "2020-02-12T13:15:56.600763Z",
     "start_time": "2020-02-12T13:15:56.596609Z"
    }
   },
   "source": [
    "### Грамматики\n",
    "В Yargy используется специальный DSL для описания грамматик. Любую контекстно-свободную грамматику можно описать с помощью конструкций Питона. Например, есть примитивная грамматика для размеров одежды:\n",
    "\n",
    "KEY -> р. | размер\n",
    "\n",
    "VALUE -> S | M | L\n",
    "\n",
    "SIZE -> KEY VALUE\n",
    "\n"
   ]
  },
  {
   "cell_type": "code",
   "execution_count": null,
   "metadata": {
    "ExecuteTime": {
     "end_time": "2020-02-12T14:14:21.602988Z",
     "start_time": "2020-02-12T14:14:21.589310Z"
    }
   },
   "outputs": [
    {
     "data": {
      "text/plain": [
       "SIZE -> KEY VALUE\n",
       "KEY -> 'р' '.' | 'размер'\n",
       "VALUE -> 'S' | 'M' | 'L' | 'XS'\n"
      ]
     },
     "execution_count": 10,
     "metadata": {},
     "output_type": "execute_result"
    }
   ],
   "source": [
    "from yargy import rule, or_\n",
    "\n",
    "\n",
    "KEY = or_(\n",
    "    rule('р', '.'),\n",
    "    rule('размер')\n",
    ").named('KEY')\n",
    "VALUE = or_(\n",
    "    rule('S'),\n",
    "    rule('M'),\n",
    "    rule('L'),\n",
    "    rule('XS'),\n",
    ").named('VALUE')\n",
    "SIZE = rule(\n",
    "    KEY,\n",
    "    VALUE\n",
    ").named('SIZE')\n",
    "SIZE.normalized.as_bnf"
   ]
  },
  {
   "cell_type": "code",
   "execution_count": null,
   "metadata": {
    "ExecuteTime": {
     "end_time": "2020-02-12T14:14:27.723857Z",
     "start_time": "2020-02-12T14:14:27.662113Z"
    }
   },
   "outputs": [
    {
     "name": "stdout",
     "output_type": "stream",
     "text": [
      "['размер', 'M']\n",
      "['размер', 'XS']\n"
     ]
    }
   ],
   "source": [
    "parser = Parser(\n",
    "    SIZE\n",
    ")\n",
    "text = 'размер M; размер A; размер XS;'\n",
    "for match in parser.findall(text):\n",
    "    print([_.value for _ in match.tokens])"
   ]
  },
  {
   "cell_type": "code",
   "execution_count": null,
   "metadata": {
    "ExecuteTime": {
     "end_time": "2020-02-12T14:12:19.308726Z",
     "start_time": "2020-02-12T14:12:17.354354Z"
    }
   },
   "outputs": [],
   "source": [
    "from yargy import Parser, rule, and_, or_, not_\n",
    "from yargy.interpretation import fact, attribute\n",
    "from yargy.predicates import gram, is_capitalized, dictionary, eq\n",
    "import re\n",
    "import pandas as pd\n",
    "from tqdm import tqdm_notebook\n",
    "from gensim import utils"
   ]
  },
  {
   "cell_type": "code",
   "execution_count": null,
   "metadata": {
    "ExecuteTime": {
     "end_time": "2020-02-12T14:12:19.323139Z",
     "start_time": "2020-02-12T14:12:19.310769Z"
    }
   },
   "outputs": [],
   "source": [
    "\n",
    "START = rule(\n",
    "    or_(\n",
    "        rule(gram('ADJF')),\n",
    "        rule(gram('NOUN'))\n",
    "    ).optional(),\n",
    "    gram('NOUN')\n",
    ")\n",
    "\n",
    "START_S = or_(\n",
    "    eq('такой'),\n",
    "    eq('такие'),\n",
    ")\n",
    "\n",
    "KAK = eq('как')\n",
    "INCLUDING = or_(\n",
    "    or_(\n",
    "        eq('в'),\n",
    "        eq('том'),\n",
    "        eq('числе'),\n",
    "    ),\n",
    "    eq('включающий'),\n",
    "    or_(\n",
    "        eq('включающий'),\n",
    "        eq('в'),\n",
    "        eq('себя'),\n",
    "    ),\n",
    "    or_(\n",
    "        eq('включающие'),\n",
    "        eq('в'),\n",
    "        eq('себя'),\n",
    "    ),\n",
    "    eq('включающие'),\n",
    "    eq('особенно'),\n",
    "\n",
    ")\n",
    "\n",
    "MID_S = or_(\n",
    "    rule(\n",
    "        or_(\n",
    "            eq('такой'),\n",
    "            eq('такие'),\n",
    "        ),\n",
    "        eq('как')\n",
    "    )\n",
    ")\n",
    "ATAKJE = rule(\n",
    "    eq(','),\n",
    "    eq('а'),\n",
    "    eq('также')\n",
    ")\n",
    "\n",
    "MID = or_(\n",
    "    rule(\n",
    "        eq('это')\n",
    "    ),\n",
    "    rule(\n",
    "        eq('—')\n",
    "    ),\n",
    "    rule(\n",
    "        eq('—'),\n",
    "        eq('это')\n",
    "    ),\n",
    "    rule(\n",
    "        eq('—'),\n",
    "        not_(eq('км'))\n",
    "    ),\n",
    "    rule(\n",
    "        or_(\n",
    "            eq('и'),\n",
    "            eq('или'),\n",
    "        ),\n",
    "        eq('другие')\n",
    "    )\n",
    ")\n",
    "\n",
    "END = or_(\n",
    "    rule(\n",
    "        gram('NOUN'),\n",
    "        gram('NOUN')\n",
    "    ),\n",
    "    rule(\n",
    "        gram('ADJF').repeatable(),\n",
    "        gram('NOUN')\n",
    "    ),\n",
    "    rule(\n",
    "        gram('ADJF'),\n",
    "        gram('ADJF').repeatable(),\n",
    "        gram('NOUN')\n",
    "    ),\n",
    "    rule(\n",
    "        gram('NOUN').repeatable(),\n",
    "        gram('ADJF'),\n",
    "        gram('NOUN').repeatable()\n",
    "    ),\n",
    "    rule(\n",
    "        gram('NOUN').repeatable()\n",
    "    )\n",
    ")\n",
    "\n",
    "Item = fact(\n",
    "    'Item',\n",
    "    [attribute('titles').repeatable()]\n",
    ")\n",
    "\n",
    "\n",
    "IGNORE = rule(\n",
    "    '(',\n",
    "    not_(eq(')')).repeatable(),\n",
    "    ')'\n",
    ")\n",
    "\n",
    "ITEM = rule(\n",
    "    IGNORE.interpretation(\n",
    "        Item.titles\n",
    "    ),\n",
    "    eq(',').optional() \n",
    ").repeatable().interpretation(\n",
    "    Item\n",
    ")"
   ]
  },
  {
   "cell_type": "code",
   "execution_count": null,
   "metadata": {
    "ExecuteTime": {
     "end_time": "2020-02-12T14:12:19.434702Z",
     "start_time": "2020-02-12T14:12:19.324707Z"
    }
   },
   "outputs": [],
   "source": [
    "def get_hyperonyms(main_word):\n",
    "    HYPONYM = eq(utils.deaccent(main_word))\n",
    "    RULE = or_(\n",
    "        rule(HYPONYM, ATAKJE, START, MID, END),\n",
    "        rule(HYPONYM, MID, END),\n",
    "        rule(START_S, END, KAK, HYPONYM),\n",
    "        rule(END, INCLUDING, HYPONYM)\n",
    "    )\n",
    "    parser = Parser(RULE) \n",
    "    text = utils.deaccent(wikipedia.summary(main_word))\n",
    "    print(text)\n",
    "    text = re.sub(r'\\(.+?\\)', '', text)\n",
    "    text = text.lower().replace('* сергии радонежскии* ', '')\n",
    "    for idx, match in enumerate(parser.findall(text.lower())):\n",
    "        k = [_.value for _ in match.tokens]\n",
    "        print(k)"
   ]
  },
  {
   "cell_type": "code",
   "execution_count": null,
   "metadata": {
    "ExecuteTime": {
     "end_time": "2020-02-12T14:12:22.648500Z",
     "start_time": "2020-02-12T14:12:19.437840Z"
    }
   },
   "outputs": [
    {
     "name": "stdout",
     "output_type": "stream",
     "text": [
      "Банан — название съедобных плодов культивируемых растении рода Банан (Musa); обычно под таковыми понимают Musa acuminata и Musa × paradisiaca, а также Musa balbisiana, Musa fehi, Musa troglodytarum и ряд других. Также бананами могут называть плоды Ensete ventricosum (строго говоря, являющегося представителем другого рода семеиства Банановые). С ботаническои точки зрения банан является ягодои, многосеменнои и толстокожеи. У культурных форм часто отсутствуют семена, ненужные при вегетативном размножении. Плоды имеют длину 6—30 см и диаметр 2—5 см. Соплодия могут состоять из 300 плодов и иметь массу до 50—60 кг.\n",
      "Бананы — одна из древнеиших пищевых культур, а для тропических стран важнеишее пищевое растение и главная статья экспорта. Спелые бананы широко употребляются в пищу по всему миру, их используют при приготовлении большого количества блюд. Помимо употребления в свежем виде, в кухне некоторых народов бананы могут зажариваться, или вариться как в очищенном, так и в неочищенном виде. Их также сушат, консервируют, используют для приготовления банановои муки, мармелада, сиропов, вин. Бананы применяются также в качестве корма для скота. Запах бананов определяют изовалерианово-изоамиловыи и уксусно-изоамиловыи эфиры. Выращиваются в тропических и субтропических раионах с жарким влажным климатом. Существует большое число сортов съедобных видов банана.\n",
      "Размер, цвет и форма могут значительно различаться в зависимости от вида или сорта, но чаще всего они имеют продолговатую цилиндрическую или трехгранную форму, выпрямленную либо закругленную. Длина плода варьирует в пределах от 3 до 40 см, толщина — от 2 до 8 см. Цвет кожицы может быть желтым, зеленым, красным или даже серебристым. Мякоть белая, кремовая, желтая или оранжевая. В незрелом состоянии она твердая и клеикая, но по мере созревания становится мягкои и сочнои.\n",
      "Во многих странах бананы являются одним из основных источников питания — например, только в Эквадоре годовое потребление этого продукта составляет 73,8 кг на душу населения (для сравнения, в России этот показатель равен 7,29 кг). Существенную долю потребления бананы также составляют в Бурунди (189,4 кг), Самоа (85,0 кг), Коморских Островах (77,8 кг) и на Филиппинах (40,6 кг).\n",
      "['банан', '—', 'название', 'съедобных', 'плодов']\n"
     ]
    }
   ],
   "source": [
    "get_hyperonyms(\"банан\")"
   ]
  },
  {
   "cell_type": "markdown",
   "metadata": {},
   "source": [
    "#### Task 1 (deadline 19.02.2020 24:00)\n",
    "* Find your name on the spreadsheet https://docs.google.com/spreadsheets/d/1RR2I6toCkebbGU1UK83HS70Ru_l0_o-nnZIHyiFB0No/edit?usp=sharing. In opposite of your name there are 24 words of hyponyms, you have to insert five corresponding hypernyms next to them. Examples of hyponyms and hyperonyms relationship you can find above in the current Jupiter notebook.\n",
    "* Find for each pair of hyponyms and hypernyms a corresponding snippet of a text with their mentions. The source of the text can be any free resources, e.g., Wikipedia, Google, Yandex, others. You should save the snippets and their URLs within the lab2 folder in your NLP git-repo with .csv file-extension in a single file.\n",
    "\n",
    "#### Task 2 (deadline 26.02.2020 24:00)\n",
    "* It would be best if you created a pandas DataFrame of the texts from the previous task. And apply to the DataFrame the function 'get_hyperonyms,' which must return the list of the corresponding hypernyms from the text automatically. If there are errors or misses, you should fix them in the code for your case of the 24 words. Nevertheless, it is strictly prohibited to use hard coding. Save your notebook with parser code within the lab2 folder in your NLP git-repo."
   ]
  },
  {
   "cell_type": "code",
   "execution_count": null,
   "metadata": {},
   "outputs": [
    {
     "data": {
      "text/html": [
       "<div>\n",
       "<style scoped>\n",
       "    .dataframe tbody tr th:only-of-type {\n",
       "        vertical-align: middle;\n",
       "    }\n",
       "\n",
       "    .dataframe tbody tr th {\n",
       "        vertical-align: top;\n",
       "    }\n",
       "\n",
       "    .dataframe thead th {\n",
       "        text-align: right;\n",
       "    }\n",
       "</style>\n",
       "<table border=\"1\" class=\"dataframe\">\n",
       "  <thead>\n",
       "    <tr style=\"text-align: right;\">\n",
       "      <th></th>\n",
       "      <th>HYPONYM</th>\n",
       "    </tr>\n",
       "  </thead>\n",
       "  <tbody>\n",
       "    <tr>\n",
       "      <th>0</th>\n",
       "      <td>ПАПЕРТЬ</td>\n",
       "    </tr>\n",
       "    <tr>\n",
       "      <th>1</th>\n",
       "      <td>ПАРАБЕЛЛУМ</td>\n",
       "    </tr>\n",
       "    <tr>\n",
       "      <th>2</th>\n",
       "      <td>ПАРАЗИТОЛОГИЯ</td>\n",
       "    </tr>\n",
       "    <tr>\n",
       "      <th>3</th>\n",
       "      <td>ПАРАЛЛЕЛЕПИПЕД</td>\n",
       "    </tr>\n",
       "    <tr>\n",
       "      <th>4</th>\n",
       "      <td>ПАРАФИРОВАНИЕ</td>\n",
       "    </tr>\n",
       "  </tbody>\n",
       "</table>\n",
       "</div>"
      ],
      "text/plain": [
       "          HYPONYM\n",
       "0         ПАПЕРТЬ\n",
       "1      ПАРАБЕЛЛУМ\n",
       "2   ПАРАЗИТОЛОГИЯ\n",
       "3  ПАРАЛЛЕЛЕПИПЕД\n",
       "4   ПАРАФИРОВАНИЕ"
      ]
     },
     "execution_count": 16,
     "metadata": {},
     "output_type": "execute_result"
    }
   ],
   "source": [
    "homework_data = pd.read_excel('book1.xlsx', sheet_name='Sheet1')\n",
    "\n",
    "homework_data.head()"
   ]
  },
  {
   "cell_type": "code",
   "execution_count": null,
   "metadata": {},
   "outputs": [
    {
     "name": "stdout",
     "output_type": "stream",
     "text": [
      "Гиперонимы для слова:  ПАПЕРТЬ\n",
      "\n",
      "\n",
      "Паперть, или внешнии притвор (греч. ατριον, лат. atrium, impluvium, pars aperta) — непокрытая кровлеи площадка перед внутренним притвором храма, на которои в первые века христианства стояли плачущие и кающиеся. В середине паперти устраивался бассеин с водои, в котором верующие умывали лицо и руки, прежде чем входили в церковь.\n",
      "\n",
      "\n",
      "\n",
      "Гиперонимы для слова:  ПАРАБЕЛЛУМ\n",
      "\n",
      "\n",
      "9×19 мм Парабеллум — пистолетныи унитарныи патрон с бесфланцевои гильзои цилиндрическои формы с небольшои конусностью, разработанныи в 1902 году австрииским оружеиником Георгом Люгером под созданныи им в 1900 году самозарядныи пистолет, Пистолет Люгера (Люгер, Парабеллум; P08, Parabellum, Borchardt-Luger) калибра 9 мм, появившиися в 1903 году.\n",
      "\n",
      "\n",
      "\n",
      "Гиперонимы для слова:  ПАРАЗИТОЛОГИЯ\n",
      "\n",
      "\n",
      "Паразитология — комплексная биологическая наука, изучающая явление паразитизма, биологию и экологию паразитов, а также вызываемые ими заболевания и меры борьбы с паразитами.\n",
      "\n",
      "\n",
      "\n",
      "Гиперонимы для слова:  ПАРАЛЛЕЛЕПИПЕД\n",
      "\n",
      "\n",
      "Параллелепипед др.-греч. παραλληλ-επιπεδον от др.-греч. παρ-αλληλος — «параллельныи» и др.-греч. επι-πεδον — «плоскость») — призма, основанием которои служит параллелограмм, или (равносильно) многогранник, у которого шесть гранеи и каждая из них —параллелограмм.\n",
      "\n",
      "\n",
      "\n",
      "Гиперонимы для слова:  ПАРАФИРОВАНИЕ\n",
      "\n",
      "\n",
      "Международныи договор — это регулируемое международным правом соглашение, заключенное государствами и/или другими субъектами международного права.\n",
      "Для квалификации соглашения в качестве международного договора не имеет значения, заключено ли оно в устнои или письменнои форме, содержится ли такое соглашение в одном или нескольких документах. Статус международного договора не зависит от его конкретного наименования: соглашение, конвенция, устав международнои организации, протокол, пакт. Для определения того, является ли документ договором, необходимо проанализировать его содержание, то есть выяснить, имели ли стороны намерение взять на себя международно-правовые обязательства. Бывают случаи, когда договоры именуются даже декларациями или меморандумами, хотя традиционно документы с такими названиями договорами не являются.\n",
      "Международныи договор может быть составлен в виде одного документа или нескольких документов (например, обмен нотами).\n",
      "Договор составляется либо на языках всех договаривающихся сторон, либо на одном или нескольких согласованных между ними языках. Договоры, заключаемые в рамках международных организации, составляются на официальных языках этих организации.\n",
      "Договор может вступать в силу с даты подписания, либо предусматривать дополнительные внутригосударственные процедуры (ратификация и т. п.). Во втором случае он вступает в силу после обмена документами о выполнении таких процедур. Многостороннии договор, как правило, вступает в силу после сдачи на хранение депозитарию (министерству иностранных дел определенного в договоре государства либо секретариату соответствующеи международнои организации) документов о выполнении внутригосударственных процедур определенным числом государств. Впоследствии он вступает в силу для каждого следующего государства после сдачи им таких документов.\n",
      "Различают «договоры-контракты» и «договоры-законы». Первые устанавливают взаимные обязательства сторон. Вторые устанавливают общие правила поведения, которые не основаны на взаимности. Типичныи пример таких «договоров-законов» — договоры о правах человека.\n",
      "Международные договоры являются одним из важнеиших источников международного права.\n",
      "Вопросы, связанные с международными договорами, составляют самостоятельную отрасль международного права — право международных договоров. Основным источником норм этои отрасли является Венская конвенция о праве международных договоров 1969 года. Конвенция, однако, относится только к договорам между государствами и только к заключенным в письменнои форме.\n",
      "\n",
      "\n",
      "\n",
      "Гиперонимы для слова:  ПАРАШЮТИЗМ\n",
      "\n",
      "\n",
      "Парашютизм (или скаидаивинг от англ. sky diving — в буквальном переводе «ныряние c небес») — один из видов авиационного спорта, связанныи с применением парашютов. Цели и задачи парашютизма постоянно менялись. Если первоначально парашют предназначался для спасения жизни, позже он стал важным элементом подготовки десанта. Современныи парашютныи спорт включает в себя такие дисциплины, связанные с точным пилотированием купола, как купольная акробатика, точность приземления и свуп, так и различные артистические виды спорта, вроде фристаила, перестроения в свободном падении, как групповая акробатика и фрифлаи.\n",
      "\n",
      "\n",
      "\n",
      "Гиперонимы для слова:  ПАРЕО\n",
      "\n",
      "\n",
      "Парео (таит. pareu) — предмет женскои одежды, прямоугольныи отрез ткани, подвязываемыи на бедрах в виде юбки, под мышками в виде платья или иным образом.\n",
      "Родина парео — Французская Полинезия, Таити.\n",
      "В настоящее время парео часто входят в женскии пляжныи костюм.\n",
      "\n",
      "\n",
      "\n",
      "Гиперонимы для слова:  ПАРКОВЩИК\n",
      "\n",
      "\n",
      "«Бородач. Понять и простить» — россиискии комедииныи телесериал, спин-офф скетчкома «Наша Russia». Идея сериала принадлежит Семену Слепакову и Гарику Мартиросяну. Премьера состоялась 15 января 2016 года на канале ТНТ. Производством сериала занималась компания «Comedy Club Production».\n",
      "\n",
      "\n",
      "\n",
      "Гиперонимы для слова:  ПАРКОМЕСТО\n",
      "\n",
      "\n",
      "Вячеслав Анатольевич Кириленко (укр. В'ячеслав Анатоліиович Кириленко; род. 7 июня 1968 года, пгт Полесское Киевскои области) — украинскии политик. Со 2 декабря 2014 года по 14 апреля 2016 года вице-премьер по гуманитарным вопросам и министр культуры Украины. С 14 апреля 2016 года по 29 августа 2019 года — вице-премьер-министр Украины.\n",
      "\n",
      "\n",
      "\n",
      "Гиперонимы для слова:  ПАРКУР\n",
      "\n",
      "\n",
      "Паркур (от фр. parcours) — скоростное перемещения и преодоления препятствии с использованием прыжковых элементов, как правило, в городских условиях. Многими занимающимися воспринимается как стиль жизни. В настоящее время активно практикуется и развивается многими объединениями и частными лицами во многих странах. Сутью паркура является движение и преодоление препятствии различного характера. Таковыми могут считаться как существующие архитектурные сооружения (перила, парапеты, стены и пр.), так и специально изготовленные конструкции (применяемые во время различных мероприятии и тренировок).\n",
      "\n",
      "\n",
      "\n",
      "Гиперонимы для слова:  ПАРОДОНТОЗ\n",
      "\n",
      "\n",
      "Пародонтоз (от др.-греч. παρα — около, рядом и οδους, род. п. οδοντος — зуб) — устаревшии термин, означающии глубокое поражение околозубнои ткани (пародонта) — пародонтит с агрессивным течением. В МКБ-10 присутствует только «юношескии (ювенильныи) пародонтоз».\n",
      "\n",
      "\n",
      "\n",
      "Гиперонимы для слова:  ПАРОМЩИК\n",
      "\n",
      "\n",
      "«Паромщик / Балалаика» — 28-и сингл Аллы Пугачевои. Был выпущен в 1986 году в СССР фирмои «Мелодия» в серии «По вашим письмам». На первои стороне сингла размещена песня «Паромщик», ставшая однои из самых популярных в репертуаре Пугачевои середины 1980-х годов. На оборотнои стороне содержится шуточная песня «Балалаика». Автор музыки обеих песен — Игорь Николаев. Релиз предварял выпуск восьмого студииного альбома певицы «…Счастья в личнои жизни!», составленного целиком из песен композитора (обе песни включены в альбом).\n",
      "\n",
      "\n",
      "\n",
      "Гиперонимы для слова:  ПАРТНЕРСКАЯ ПРОГРАММА\n",
      "\n",
      "\n",
      "Партнерка — это партнерская программа. Форма делового сотрудничества между продавцом и партнерами, при продаже какого-либо товара или предоставления услуг. Позволяет продавцу сократить расходы на привлечение конечного покупателя. Особенно широко распространены в деловои модели B2B.\n",
      "Так, участниками партнерских программ являются автодилеры или туристические агентства, компании-партнеры Microsoft.\n",
      "\n",
      "\n",
      "\n",
      "Гиперонимы для слова:  ПАРТСПИСОК\n",
      "\n",
      "\n",
      "Партииныи список или партсписок — на выборах в представительные органы власти, проводимых по пропорциональнои системе, список кандидатов от однои партии или иного избирательного объединения. Правила формирования и выдвижения списка определяются законодательством соответствующих государств, уставами избирательных объединении и прочими факторами. Порядок расположения кандидатов в списке определяет и распределение между ними выигранных партиеи мест в представительном органе.\n",
      "\n",
      "\n",
      "\n",
      "Гиперонимы для слова:  ПАСПОРТИСТКА\n",
      "\n",
      "\n"
     ]
    }
   ],
   "source": [
    "for word in list(homework_data['HYPONYM']):\n",
    "    print('Гиперонимы для слова: ', word)\n",
    "    print('\\n')\n",
    "    get_hyperonyms(word)\n",
    "    print('\\n\\n')"
   ]
  },
  {
   "cell_type": "code",
   "execution_count": null,
   "metadata": {},
   "outputs": [],
   "source": []
  }
 ],
 "metadata": {
  "kernelspec": {
   "display_name": "Python 3",
   "language": "python",
   "name": "python3"
  },
  "language_info": {
   "codemirror_mode": {
    "name": "ipython",
    "version": 3
   },
   "file_extension": ".py",
   "mimetype": "text/x-python",
   "name": "python",
   "nbconvert_exporter": "python",
   "pygments_lexer": "ipython3",
   "version": "3.7.3"
  }
 },
 "nbformat": 4,
 "nbformat_minor": 2
}
